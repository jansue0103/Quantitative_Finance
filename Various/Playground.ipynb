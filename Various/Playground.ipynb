{
 "cells": [
  {
   "cell_type": "code",
   "execution_count": 1,
   "metadata": {
    "ExecuteTime": {
     "end_time": "2024-03-21T20:05:25.839545Z",
     "start_time": "2024-03-21T20:05:19.122649Z"
    }
   },
   "outputs": [],
   "source": [
    "import numpy as np\n",
    "from statsmodels import regression\n",
    "from scipy.stats import shapiro\n",
    "import statsmodels.api as sm\n",
    "import matplotlib.pyplot as plt\n",
    "import pandas as pd\n",
    "import yfinance as yf\n",
    "from sklearn.linear_model import LinearRegression\n",
    "from sklearn.metrics import r2_score\n",
    "from statsmodels.stats.stattools import jarque_bera\n",
    "from statsmodels.tsa.stattools import acf\n",
    "from statsmodels.graphics.tsaplots import plot_acf, plot_pacf\n",
    "import statsmodels.stats.diagnostic as smd\n",
    "import scipy.optimize as optimize"
   ]
  },
  {
   "cell_type": "code",
   "execution_count": 199,
   "metadata": {},
   "outputs": [
    {
     "name": "stderr",
     "output_type": "stream",
     "text": [
      "[*********************100%%**********************]  520 of 520 completed\n",
      "\n",
      "2 Failed downloads:\n",
      "['BRK.B']: Exception('%ticker%: No timezone found, symbol may be delisted')\n",
      "['BF.B']: Exception('%ticker%: No price data found, symbol may be delisted (1d 2015-01-01 -> 2024-01-01)')\n"
     ]
    }
   ],
   "source": [
    "def get_stock_tickers():\n",
    "    url_spy = 'https://en.m.wikipedia.org/wiki/Nasdaq-100'\n",
    "    url_qqq = 'https://en.m.wikipedia.org/wiki/List_of_S%26P_500_companies'\n",
    "    spy =  pd.read_html(url_spy, attrs={'id': \"constituents\"}, index_col='Ticker')[0]\n",
    "    qqq = pd.read_html(url_qqq, attrs={'id': 'constituents'}, index_col='Symbol')[0]\n",
    "    spy = spy.index.to_list()\n",
    "    qqq = qqq.index.to_list()\n",
    "    stocks = spy + qqq\n",
    "    stocks = list(set(stocks))\n",
    "    stocks.sort()\n",
    "    return stocks\n",
    "\n",
    "tickers2 = get_stock_tickers()\n",
    "start = \"2015-01-01\"\n",
    "end = \"2024-01-01\"\n",
    "data = yf.download(tickers2,start=start, end=end)\n"
   ]
  },
  {
   "cell_type": "code",
   "execution_count": 158,
   "metadata": {},
   "outputs": [
    {
     "name": "stderr",
     "output_type": "stream",
     "text": [
      "[*********************100%%**********************]  1 of 1 completed\n",
      "[*********************100%%**********************]  1 of 1 completed"
     ]
    },
    {
     "name": "stderr",
     "output_type": "stream",
     "text": [
      "\n"
     ]
    },
    {
     "data": {
      "text/html": [
       "<table class=\"simpletable\">\n",
       "<caption>OLS Regression Results</caption>\n",
       "<tr>\n",
       "  <th>Dep. Variable:</th>          <td>Close</td>      <th>  R-squared:         </th> <td>   0.684</td> \n",
       "</tr>\n",
       "<tr>\n",
       "  <th>Model:</th>                   <td>OLS</td>       <th>  Adj. R-squared:    </th> <td>   0.683</td> \n",
       "</tr>\n",
       "<tr>\n",
       "  <th>Method:</th>             <td>Least Squares</td>  <th>  F-statistic:       </th> <td>   2172.</td> \n",
       "</tr>\n",
       "<tr>\n",
       "  <th>Date:</th>             <td>Tue, 05 Mar 2024</td> <th>  Prob (F-statistic):</th> <td>1.95e-253</td>\n",
       "</tr>\n",
       "<tr>\n",
       "  <th>Time:</th>                 <td>11:11:30</td>     <th>  Log-Likelihood:    </th> <td>  2984.5</td> \n",
       "</tr>\n",
       "<tr>\n",
       "  <th>No. Observations:</th>      <td>  1007</td>      <th>  AIC:               </th> <td>  -5965.</td> \n",
       "</tr>\n",
       "<tr>\n",
       "  <th>Df Residuals:</th>          <td>  1005</td>      <th>  BIC:               </th> <td>  -5955.</td> \n",
       "</tr>\n",
       "<tr>\n",
       "  <th>Df Model:</th>              <td>     1</td>      <th>                     </th>     <td> </td>    \n",
       "</tr>\n",
       "<tr>\n",
       "  <th>Covariance Type:</th>      <td>nonrobust</td>    <th>                     </th>     <td> </td>    \n",
       "</tr>\n",
       "</table>\n",
       "<table class=\"simpletable\">\n",
       "<tr>\n",
       "    <td></td>       <th>coef</th>     <th>std err</th>      <th>t</th>      <th>P>|t|</th>  <th>[0.025</th>    <th>0.975]</th>  \n",
       "</tr>\n",
       "<tr>\n",
       "  <th>const</th> <td>-9.754e-05</td> <td>    0.000</td> <td>   -0.247</td> <td> 0.805</td> <td>   -0.001</td> <td>    0.001</td>\n",
       "</tr>\n",
       "<tr>\n",
       "  <th>Close</th> <td>    0.9770</td> <td>    0.021</td> <td>   46.607</td> <td> 0.000</td> <td>    0.936</td> <td>    1.018</td>\n",
       "</tr>\n",
       "</table>\n",
       "<table class=\"simpletable\">\n",
       "<tr>\n",
       "  <th>Omnibus:</th>       <td>163.518</td> <th>  Durbin-Watson:     </th> <td>   2.194</td>\n",
       "</tr>\n",
       "<tr>\n",
       "  <th>Prob(Omnibus):</th> <td> 0.000</td>  <th>  Jarque-Bera (JB):  </th> <td>1691.679</td>\n",
       "</tr>\n",
       "<tr>\n",
       "  <th>Skew:</th>          <td>-0.383</td>  <th>  Prob(JB):          </th> <td>    0.00</td>\n",
       "</tr>\n",
       "<tr>\n",
       "  <th>Kurtosis:</th>      <td> 9.303</td>  <th>  Cond. No.          </th> <td>    53.2</td>\n",
       "</tr>\n",
       "</table><br/><br/>Notes:<br/>[1] Standard Errors assume that the covariance matrix of the errors is correctly specified."
      ],
      "text/latex": [
       "\\begin{center}\n",
       "\\begin{tabular}{lclc}\n",
       "\\toprule\n",
       "\\textbf{Dep. Variable:}    &      Close       & \\textbf{  R-squared:         } &     0.684   \\\\\n",
       "\\textbf{Model:}            &       OLS        & \\textbf{  Adj. R-squared:    } &     0.683   \\\\\n",
       "\\textbf{Method:}           &  Least Squares   & \\textbf{  F-statistic:       } &     2172.   \\\\\n",
       "\\textbf{Date:}             & Tue, 05 Mar 2024 & \\textbf{  Prob (F-statistic):} & 1.95e-253   \\\\\n",
       "\\textbf{Time:}             &     11:11:30     & \\textbf{  Log-Likelihood:    } &    2984.5   \\\\\n",
       "\\textbf{No. Observations:} &        1007      & \\textbf{  AIC:               } &    -5965.   \\\\\n",
       "\\textbf{Df Residuals:}     &        1005      & \\textbf{  BIC:               } &    -5955.   \\\\\n",
       "\\textbf{Df Model:}         &           1      & \\textbf{                     } &             \\\\\n",
       "\\textbf{Covariance Type:}  &    nonrobust     & \\textbf{                     } &             \\\\\n",
       "\\bottomrule\n",
       "\\end{tabular}\n",
       "\\begin{tabular}{lcccccc}\n",
       "               & \\textbf{coef} & \\textbf{std err} & \\textbf{t} & \\textbf{P$> |$t$|$} & \\textbf{[0.025} & \\textbf{0.975]}  \\\\\n",
       "\\midrule\n",
       "\\textbf{const} &   -9.754e-05  &        0.000     &    -0.247  &         0.805        &       -0.001    &        0.001     \\\\\n",
       "\\textbf{Close} &       0.9770  &        0.021     &    46.607  &         0.000        &        0.936    &        1.018     \\\\\n",
       "\\bottomrule\n",
       "\\end{tabular}\n",
       "\\begin{tabular}{lclc}\n",
       "\\textbf{Omnibus:}       & 163.518 & \\textbf{  Durbin-Watson:     } &    2.194  \\\\\n",
       "\\textbf{Prob(Omnibus):} &   0.000 & \\textbf{  Jarque-Bera (JB):  } & 1691.679  \\\\\n",
       "\\textbf{Skew:}          &  -0.383 & \\textbf{  Prob(JB):          } &     0.00  \\\\\n",
       "\\textbf{Kurtosis:}      &   9.303 & \\textbf{  Cond. No.          } &     53.2  \\\\\n",
       "\\bottomrule\n",
       "\\end{tabular}\n",
       "%\\caption{OLS Regression Results}\n",
       "\\end{center}\n",
       "\n",
       "Notes: \\newline\n",
       " [1] Standard Errors assume that the covariance matrix of the errors is correctly specified."
      ],
      "text/plain": [
       "<class 'statsmodels.iolib.summary.Summary'>\n",
       "\"\"\"\n",
       "                            OLS Regression Results                            \n",
       "==============================================================================\n",
       "Dep. Variable:                  Close   R-squared:                       0.684\n",
       "Model:                            OLS   Adj. R-squared:                  0.683\n",
       "Method:                 Least Squares   F-statistic:                     2172.\n",
       "Date:                Tue, 05 Mar 2024   Prob (F-statistic):          1.95e-253\n",
       "Time:                        11:11:30   Log-Likelihood:                 2984.5\n",
       "No. Observations:                1007   AIC:                            -5965.\n",
       "Df Residuals:                    1005   BIC:                            -5955.\n",
       "Df Model:                           1                                         \n",
       "Covariance Type:            nonrobust                                         \n",
       "==============================================================================\n",
       "                 coef    std err          t      P>|t|      [0.025      0.975]\n",
       "------------------------------------------------------------------------------\n",
       "const      -9.754e-05      0.000     -0.247      0.805      -0.001       0.001\n",
       "Close          0.9770      0.021     46.607      0.000       0.936       1.018\n",
       "==============================================================================\n",
       "Omnibus:                      163.518   Durbin-Watson:                   2.194\n",
       "Prob(Omnibus):                  0.000   Jarque-Bera (JB):             1691.679\n",
       "Skew:                          -0.383   Prob(JB):                         0.00\n",
       "Kurtosis:                       9.303   Cond. No.                         53.2\n",
       "==============================================================================\n",
       "\n",
       "Notes:\n",
       "[1] Standard Errors assume that the covariance matrix of the errors is correctly specified.\n",
       "\"\"\""
      ]
     },
     "execution_count": 158,
     "metadata": {},
     "output_type": "execute_result"
    },
    {
     "data": {
      "image/png": "[encoded data removed]",
      "text/plain": [
       "<Figure size 640x480 with 1 Axes>"
      ]
     },
     "metadata": {},
     "output_type": "display_data"
    }
   ],
   "source": [
    "start = \"2018-01-01\"\n",
    "end = \"2022-01-01\"\n",
    "X = \"MSFT\"\n",
    "y = \"ADBE\"\n",
    "data = yf.download(X, start=start, end=end)[\"Close\"]\n",
    "asset = yf.download(y, start=start, end=end)[\"Close\"]\n",
    "asset = asset.pct_change()[1:]\n",
    "data = data.pct_change()[1:]\n",
    "model = sm.OLS(asset, sm.add_constant(data)).fit()\n",
    "alpha, beta = model.params\n",
    "reg_line = alpha + beta * data\n",
    "plt.scatter(asset, data, alpha=1)\n",
    "plt.plot(data, reg_line, \"r\")\n",
    "model.summary()"
   ]
  },
  {
   "cell_type": "code",
   "execution_count": 168,
   "metadata": {},
   "outputs": [
    {
     "data": {
      "image/png": "[encoded data removed]",
      "text/plain": [
       "<Figure size 640x480 with 1 Axes>"
      ]
     },
     "metadata": {},
     "output_type": "display_data"
    },
    {
     "name": "stdout",
     "output_type": "stream",
     "text": [
      "0.0021124559777931594\n",
      "0.3803479494341656\n"
     ]
    },
    {
     "data": {
      "text/plain": [
       "<matplotlib.lines.Line2D at 0x1b9a0be1e20>"
      ]
     },
     "execution_count": 168,
     "metadata": {},
     "output_type": "execute_result"
    },
    {
     "data": {
      "image/png": "[encoded data removed]",
      "text/plain": [
       "<Figure size 640x480 with 1 Axes>"
      ]
     },
     "metadata": {},
     "output_type": "display_data"
    }
   ],
   "source": [
    "plt.scatter(model.predict(), model.resid)\n",
    "plt.axhline(0, color=\"red\")\n",
    "plt.show()\n",
    "heteroscedasticity = smd.het_breuschpagan(model.resid, model.model.exog)[1]\n",
    "print(heteroscedasticity)\n",
    "diff = np.diff(reg_line)\n",
    "model_diff = sm.OLS(diff, sm.add_constant(data[1:])).fit()\n",
    "heteroscedasticity_diff = smd.het_breuschpagan(diff, model_diff.model.exog)[1]\n",
    "print(heteroscedasticity_diff)\n",
    "plt.scatter(model_diff.predict(), model_diff.resid)\n",
    "plt.axhline(0, color=\"red\")"
   ]
  },
  {
   "cell_type": "code",
   "execution_count": 182,
   "metadata": {},
   "outputs": [
    {
     "data": {
      "text/html": [
       "<div>\n",
       "<style scoped>\n",
       "    .dataframe tbody tr th:only-of-type {\n",
       "        vertical-align: middle;\n",
       "    }\n",
       "\n",
       "    .dataframe tbody tr th {\n",
       "        vertical-align: top;\n",
       "    }\n",
       "\n",
       "    .dataframe thead th {\n",
       "        text-align: right;\n",
       "    }\n",
       "</style>\n",
       "<table border=\"1\" class=\"dataframe\">\n",
       "  <thead>\n",
       "    <tr style=\"text-align: right;\">\n",
       "      <th></th>\n",
       "      <th>lb_stat</th>\n",
       "      <th>lb_pvalue</th>\n",
       "    </tr>\n",
       "  </thead>\n",
       "  <tbody>\n",
       "    <tr>\n",
       "      <th>1</th>\n",
       "      <td>66.793654</td>\n",
       "      <td>3.014670e-16</td>\n",
       "    </tr>\n",
       "    <tr>\n",
       "      <th>2</th>\n",
       "      <td>71.512715</td>\n",
       "      <td>2.959452e-16</td>\n",
       "    </tr>\n",
       "    <tr>\n",
       "      <th>3</th>\n",
       "      <td>71.544083</td>\n",
       "      <td>1.993309e-15</td>\n",
       "    </tr>\n",
       "    <tr>\n",
       "      <th>4</th>\n",
       "      <td>73.396245</td>\n",
       "      <td>4.350385e-15</td>\n",
       "    </tr>\n",
       "    <tr>\n",
       "      <th>5</th>\n",
       "      <td>73.399618</td>\n",
       "      <td>2.006604e-14</td>\n",
       "    </tr>\n",
       "    <tr>\n",
       "      <th>6</th>\n",
       "      <td>76.505207</td>\n",
       "      <td>1.879724e-14</td>\n",
       "    </tr>\n",
       "    <tr>\n",
       "      <th>7</th>\n",
       "      <td>89.582329</td>\n",
       "      <td>1.507348e-16</td>\n",
       "    </tr>\n",
       "    <tr>\n",
       "      <th>8</th>\n",
       "      <td>109.249635</td>\n",
       "      <td>5.430299e-20</td>\n",
       "    </tr>\n",
       "    <tr>\n",
       "      <th>9</th>\n",
       "      <td>130.899928</td>\n",
       "      <td>7.744007e-24</td>\n",
       "    </tr>\n",
       "    <tr>\n",
       "      <th>10</th>\n",
       "      <td>132.411978</td>\n",
       "      <td>1.503534e-23</td>\n",
       "    </tr>\n",
       "    <tr>\n",
       "      <th>11</th>\n",
       "      <td>132.575611</td>\n",
       "      <td>5.238447e-23</td>\n",
       "    </tr>\n",
       "    <tr>\n",
       "      <th>12</th>\n",
       "      <td>136.986433</td>\n",
       "      <td>2.427895e-23</td>\n",
       "    </tr>\n",
       "    <tr>\n",
       "      <th>13</th>\n",
       "      <td>150.025760</td>\n",
       "      <td>2.036756e-25</td>\n",
       "    </tr>\n",
       "    <tr>\n",
       "      <th>14</th>\n",
       "      <td>152.974597</td>\n",
       "      <td>1.824574e-25</td>\n",
       "    </tr>\n",
       "    <tr>\n",
       "      <th>15</th>\n",
       "      <td>161.064455</td>\n",
       "      <td>1.506666e-26</td>\n",
       "    </tr>\n",
       "    <tr>\n",
       "      <th>16</th>\n",
       "      <td>169.649067</td>\n",
       "      <td>9.892584e-28</td>\n",
       "    </tr>\n",
       "    <tr>\n",
       "      <th>17</th>\n",
       "      <td>170.675817</td>\n",
       "      <td>2.060707e-27</td>\n",
       "    </tr>\n",
       "    <tr>\n",
       "      <th>18</th>\n",
       "      <td>171.479617</td>\n",
       "      <td>4.630138e-27</td>\n",
       "    </tr>\n",
       "    <tr>\n",
       "      <th>19</th>\n",
       "      <td>172.028649</td>\n",
       "      <td>1.138371e-26</td>\n",
       "    </tr>\n",
       "    <tr>\n",
       "      <th>20</th>\n",
       "      <td>182.397625</td>\n",
       "      <td>3.292753e-28</td>\n",
       "    </tr>\n",
       "  </tbody>\n",
       "</table>\n",
       "</div>"
      ],
      "text/plain": [
       "       lb_stat     lb_pvalue\n",
       "1    66.793654  3.014670e-16\n",
       "2    71.512715  2.959452e-16\n",
       "3    71.544083  1.993309e-15\n",
       "4    73.396245  4.350385e-15\n",
       "5    73.399618  2.006604e-14\n",
       "6    76.505207  1.879724e-14\n",
       "7    89.582329  1.507348e-16\n",
       "8   109.249635  5.430299e-20\n",
       "9   130.899928  7.744007e-24\n",
       "10  132.411978  1.503534e-23\n",
       "11  132.575611  5.238447e-23\n",
       "12  136.986433  2.427895e-23\n",
       "13  150.025760  2.036756e-25\n",
       "14  152.974597  1.824574e-25\n",
       "15  161.064455  1.506666e-26\n",
       "16  169.649067  9.892584e-28\n",
       "17  170.675817  2.060707e-27\n",
       "18  171.479617  4.630138e-27\n",
       "19  172.028649  1.138371e-26\n",
       "20  182.397625  3.292753e-28"
      ]
     },
     "execution_count": 182,
     "metadata": {},
     "output_type": "execute_result"
    }
   ],
   "source": [
    "ljung_box = smd.acorr_ljungbox(asset, lags=20)\n",
    "ljung_box"
   ]
  },
  {
   "cell_type": "code",
   "execution_count": 30,
   "metadata": {
    "ExecuteTime": {
     "end_time": "2024-03-21T20:14:19.544373Z",
     "start_time": "2024-03-21T20:14:19.495344Z"
    }
   },
   "outputs": [
    {
     "data": {
      "text/plain": "          0         1         2\n0  1.000000 -0.454257 -0.114377\n1 -0.454257  1.000000 -0.581914\n2 -0.114377 -0.581914  1.000000",
      "text/html": "<div>\n<style scoped>\n    .dataframe tbody tr th:only-of-type {\n        vertical-align: middle;\n    }\n\n    .dataframe tbody tr th {\n        vertical-align: top;\n    }\n\n    .dataframe thead th {\n        text-align: right;\n    }\n</style>\n<table border=\"1\" class=\"dataframe\">\n  <thead>\n    <tr style=\"text-align: right;\">\n      <th></th>\n      <th>0</th>\n      <th>1</th>\n      <th>2</th>\n    </tr>\n  </thead>\n  <tbody>\n    <tr>\n      <th>0</th>\n      <td>1.000000</td>\n      <td>-0.454257</td>\n      <td>-0.114377</td>\n    </tr>\n    <tr>\n      <th>1</th>\n      <td>-0.454257</td>\n      <td>1.000000</td>\n      <td>-0.581914</td>\n    </tr>\n    <tr>\n      <th>2</th>\n      <td>-0.114377</td>\n      <td>-0.581914</td>\n      <td>1.000000</td>\n    </tr>\n  </tbody>\n</table>\n</div>"
     },
     "execution_count": 30,
     "metadata": {},
     "output_type": "execute_result"
    }
   ],
   "source": [
    "from scipy.spatial.distance import pdist, squareform\n",
    "from scipy.cluster.hierarchy import linkage, dendrogram\n",
    "data = pd.DataFrame([[2,4,7], [4,5,1], [7,1, 6], [8,4,4]])\n",
    "corr_matrix = data.corr()\n",
    "corr_matrix"
   ]
  },
  {
   "cell_type": "code",
   "outputs": [],
   "source": [
    "distance_matrix = corr_matrix.apply(lambda x: np.sqrt(0.5 * (1 - x)))"
   ],
   "metadata": {
    "collapsed": false,
    "ExecuteTime": {
     "end_time": "2024-03-21T20:14:21.437612Z",
     "start_time": "2024-03-21T20:14:21.429848Z"
    }
   },
   "execution_count": 31
  },
  {
   "cell_type": "code",
   "outputs": [
    {
     "data": {
      "text/plain": "          0         1         2\n0  0.000000  0.852718  0.746451\n1  0.852718  0.000000  0.889358\n2  0.746451  0.889358  0.000000",
      "text/html": "<div>\n<style scoped>\n    .dataframe tbody tr th:only-of-type {\n        vertical-align: middle;\n    }\n\n    .dataframe tbody tr th {\n        vertical-align: top;\n    }\n\n    .dataframe thead th {\n        text-align: right;\n    }\n</style>\n<table border=\"1\" class=\"dataframe\">\n  <thead>\n    <tr style=\"text-align: right;\">\n      <th></th>\n      <th>0</th>\n      <th>1</th>\n      <th>2</th>\n    </tr>\n  </thead>\n  <tbody>\n    <tr>\n      <th>0</th>\n      <td>0.000000</td>\n      <td>0.852718</td>\n      <td>0.746451</td>\n    </tr>\n    <tr>\n      <th>1</th>\n      <td>0.852718</td>\n      <td>0.000000</td>\n      <td>0.889358</td>\n    </tr>\n    <tr>\n      <th>2</th>\n      <td>0.746451</td>\n      <td>0.889358</td>\n      <td>0.000000</td>\n    </tr>\n  </tbody>\n</table>\n</div>"
     },
     "execution_count": 32,
     "metadata": {},
     "output_type": "execute_result"
    }
   ],
   "source": [
    "distance_matrix"
   ],
   "metadata": {
    "collapsed": false,
    "ExecuteTime": {
     "end_time": "2024-03-21T20:14:21.723141Z",
     "start_time": "2024-03-21T20:14:21.704222Z"
    }
   },
   "execution_count": 32
  },
  {
   "cell_type": "code",
   "outputs": [
    {
     "data": {
      "text/plain": "array([1.2143637 , 1.05627634, 1.2622231 ])"
     },
     "execution_count": 33,
     "metadata": {},
     "output_type": "execute_result"
    }
   ],
   "source": [
    "pairwise_distance = pdist(distance_matrix, metric=\"euclidean\")\n",
    "pairwise_distance"
   ],
   "metadata": {
    "collapsed": false,
    "ExecuteTime": {
     "end_time": "2024-03-21T20:14:21.876857Z",
     "start_time": "2024-03-21T20:14:21.863772Z"
    }
   },
   "execution_count": 33
  },
  {
   "cell_type": "code",
   "outputs": [
    {
     "data": {
      "text/plain": "array([[0.        , 1.2143637 , 1.05627634],\n       [1.2143637 , 0.        , 1.2622231 ],\n       [1.05627634, 1.2622231 , 0.        ]])"
     },
     "execution_count": 34,
     "metadata": {},
     "output_type": "execute_result"
    }
   ],
   "source": [
    "full_distance = squareform(pairwise_distance)\n",
    "full_distance"
   ],
   "metadata": {
    "collapsed": false,
    "ExecuteTime": {
     "end_time": "2024-03-21T20:14:22.057977Z",
     "start_time": "2024-03-21T20:14:22.043703Z"
    }
   },
   "execution_count": 34
  },
  {
   "cell_type": "code",
   "outputs": [
    {
     "name": "stderr",
     "output_type": "stream",
     "text": [
      "C:\\Users\\Jan Süßmann\\AppData\\Local\\Temp\\ipykernel_60036\\459033359.py:2: ClusterWarning: scipy.cluster: The symmetric non-negative hollow observation matrix looks suspiciously like an uncondensed distance matrix\n",
      "  clusters2 = linkage(full_distance, method=\"complete\", metric=\"euclidean\")\n"
     ]
    }
   ],
   "source": [
    "clusters = linkage(pairwise_distance, method=\"complete\", metric=\"euclidean\")\n",
    "clusters2 = linkage(full_distance, method=\"complete\", metric=\"euclidean\")"
   ],
   "metadata": {
    "collapsed": false,
    "ExecuteTime": {
     "end_time": "2024-03-21T20:18:04.517850Z",
     "start_time": "2024-03-21T20:18:04.509382Z"
    }
   },
   "execution_count": 40
  },
  {
   "cell_type": "code",
   "outputs": [
    {
     "data": {
      "text/plain": "<Figure size 640x480 with 1 Axes>",
      "image/png": "[encoded data removed]"
     },
     "metadata": {},
     "output_type": "display_data"
    }
   ],
   "source": [
    "dendro = dendrogram(clusters)"
   ],
   "metadata": {
    "collapsed": false,
    "ExecuteTime": {
     "end_time": "2024-03-21T20:19:16.651268Z",
     "start_time": "2024-03-21T20:19:16.420877Z"
    }
   },
   "execution_count": 48
  },
  {
   "cell_type": "code",
   "outputs": [
    {
     "data": {
      "text/plain": "<Figure size 640x480 with 1 Axes>",
      "image/png": "[encoded data removed]"
     },
     "metadata": {},
     "output_type": "display_data"
    }
   ],
   "source": [
    "dendro2 = dendrogram(clusters2)"
   ],
   "metadata": {
    "collapsed": false,
    "ExecuteTime": {
     "end_time": "2024-03-21T20:19:20.458792Z",
     "start_time": "2024-03-21T20:19:20.207105Z"
    }
   },
   "execution_count": 49
  },
  {
   "cell_type": "code",
   "outputs": [],
   "source": [],
   "metadata": {
    "collapsed": false
   }
  }
 ],
 "metadata": {
  "kernelspec": {
   "display_name": "Python 3",
   "language": "python",
   "name": "python3"
  },
  "language_info": {
   "codemirror_mode": {
    "name": "ipython",
    "version": 3
   },
   "file_extension": ".py",
   "mimetype": "text/x-python",
   "name": "python",
   "nbconvert_exporter": "python",
   "pygments_lexer": "ipython3",
   "version": "3.12.0"
  }
 },
 "nbformat": 4,
 "nbformat_minor": 2
}
